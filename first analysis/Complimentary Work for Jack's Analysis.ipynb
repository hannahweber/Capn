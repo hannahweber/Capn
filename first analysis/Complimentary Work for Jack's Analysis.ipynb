{
 "cells": [
  {
   "cell_type": "markdown",
   "metadata": {},
   "source": [
    "# Complimentary Work for Jack's Analysis"
   ]
  },
  {
   "cell_type": "code",
   "execution_count": 1,
   "metadata": {},
   "outputs": [],
   "source": [
    "import pandas as pd\n",
    "import numpy as np\n",
    "from datetime import datetime\n",
    "\n",
    "import matplotlib.pyplot as plt"
   ]
  },
  {
   "cell_type": "markdown",
   "metadata": {},
   "source": [
    "## --- Read in the data ---"
   ]
  },
  {
   "cell_type": "code",
   "execution_count": 2,
   "metadata": {},
   "outputs": [],
   "source": [
    "box_score_df = pd.read_csv(\"2012-18_playerBoxScore.csv\")\n",
    "injuries_df = pd.read_csv(\"injuries.csv\")"
   ]
  },
  {
   "cell_type": "markdown",
   "metadata": {},
   "source": [
    "### Clean up the teamAbbr column in box_score_df"
   ]
  },
  {
   "cell_type": "code",
   "execution_count": 3,
   "metadata": {},
   "outputs": [],
   "source": [
    "box_score_df['Team'] = box_score_df['teamAbbr']\n",
    "box_score_df['Team'] = box_score_df['Team'].replace('WAS', 'Wizards')\n",
    "box_score_df['Team'] = box_score_df['Team'].replace('CLE', 'Cavaliers')\n",
    "box_score_df['Team'] = box_score_df['Team'].replace('BOS', 'Celtics')\n",
    "box_score_df['Team'] = box_score_df['Team'].replace('MIA', 'Heat')\n",
    "box_score_df['Team'] = box_score_df['Team'].replace('DAL', 'Mavericks')\n",
    "box_score_df['Team'] = box_score_df['Team'].replace('LAL', 'Lakers')\n",
    "box_score_df['Team'] = box_score_df['Team'].replace('DEN', 'Nuggets')\n",
    "box_score_df['Team'] = box_score_df['Team'].replace('PHI', '76ers')\n",
    "box_score_df['Team'] = box_score_df['Team'].replace('IND', 'Pacers')\n",
    "box_score_df['Team'] = box_score_df['Team'].replace('TOR', 'Raptors')\n",
    "box_score_df['Team'] = box_score_df['Team'].replace('HOU', 'Rockets')\n",
    "box_score_df['Team'] = box_score_df['Team'].replace('DET', 'Pistons')\n",
    "box_score_df['Team'] = box_score_df['Team'].replace('SAC', 'Kings')\n",
    "box_score_df['Team'] = box_score_df['Team'].replace('CHI', 'Bulls')\n",
    "box_score_df['Team'] = box_score_df['Team'].replace('WAS', 'Washington')\n",
    "box_score_df['Team'] = box_score_df['Team'].replace('SA', 'Spurs')\n",
    "box_score_df['Team'] = box_score_df['Team'].replace('NO', 'Pelicans')\n",
    "box_score_df['Team'] = box_score_df['Team'].replace('UTA', 'Jazz')\n",
    "box_score_df['Team'] = box_score_df['Team'].replace('GS', 'Warriors')\n",
    "box_score_df['Team'] = box_score_df['Team'].replace('PHO', 'Suns')\n",
    "box_score_df['Team'] = box_score_df['Team'].replace('MEM', 'Grizzlies')\n",
    "box_score_df['Team'] = box_score_df['Team'].replace('LAC', 'Clippers')\n",
    "box_score_df['Team'] = box_score_df['Team'].replace('POR', 'Blazers')\n",
    "box_score_df['Team'] = box_score_df['Team'].replace('OKC', 'Thunder')\n",
    "box_score_df['Team'] = box_score_df['Team'].replace('ORL', 'Magic')\n",
    "box_score_df['Team'] = box_score_df['Team'].replace('CHA', 'Hornets')\n",
    "box_score_df['Team'] = box_score_df['Team'].replace('MIL', 'Bucks')\n",
    "box_score_df['Team'] = box_score_df['Team'].replace('ATL', 'Hawks')\n",
    "box_score_df['Team'] = box_score_df['Team'].replace('NY', 'Knicks')\n",
    "box_score_df['Team'] = box_score_df['Team'].replace('MIN', 'Timberwolves')\n",
    "box_score_df['Team'] = box_score_df['Team'].replace('BKN', 'Nets')\n",
    "injuries_df['Team'] = injuries_df['Team'].replace('Bobcats', 'Hornets') #Clean up Team column in injuries_df"
   ]
  },
  {
   "cell_type": "markdown",
   "metadata": {},
   "source": [
    "### Change date columns for each df to datetime"
   ]
  },
  {
   "cell_type": "code",
   "execution_count": 4,
   "metadata": {},
   "outputs": [],
   "source": [
    "box_score_df['gmDate'] = pd.to_datetime(box_score_df['gmDate'])\n",
    "injuries_df['Date'] = pd.to_datetime(injuries_df['Date'])"
   ]
  },
  {
   "cell_type": "markdown",
   "metadata": {},
   "source": [
    "### Clean up players' names between datasets (Jack's code)"
   ]
  },
  {
   "cell_type": "code",
   "execution_count": 5,
   "metadata": {},
   "outputs": [],
   "source": [
    "clean_names = {'Nikola Jokic':'Nikola Jokić','Raulzinho Neto':'Raul Neto','Frank Kaminsky':'Francis Kaminsky',\n",
    "               'Joe Ingles':'Joseph Ingles','Damjan Rudez':'Damjan Rudež','P.J. Tucker':'Anthony Tucker',\n",
    "               \"DeAndre' Bembry\":'DeAndre’ Bembry','Chuck Hayes':'Charles Hayes','Ben Simmons':'Benjamin Simmons',\n",
    "               'Josh Smith':'Joshua Smith','Jerami Grant':'Houston Grant','Tomas Satoransky':'Tomáš Satoranský',\n",
    "               'Nemanja Nedovic':'Nemanja Nedović','Jose Juan':'Jose Barea','Vince Carter':'Vincent Carter',\n",
    "               'Mirza Teletovic':'Mirza Teletović','Ike Anigbogu':'Christopher Anigbogu',\n",
    "               \"Amare Stoudemire / Amar'e Stoudemire\":\"Amar'e Stoudemire\",'Ed Davis':'Edward Davis',\n",
    "               'Cristiano Felicio':'Cristiano Felício','C.J. McCollum':'Christian McCollum',\n",
    "               'Ognjen Kuzmic':'Ognjen Kuzmić','Ognjen Kuzmic / Ognen Kuzmic':'Ognjen Kuzmić',\n",
    "               'C.J. Miles':'Calvin Miles','C.J. Wilcox':'Chris Wilcox','Henry Walker':'Kemba Walker',\n",
    "               'Timothe Luwawu / Timothe Luwawu-Cabarrot':'Timothé Luwawu-Cabarrot',\n",
    "               'Tim Hardaway Jr.':'Timothy Hardaway','Kostas Papanikolaou':'Konstantinos Papanikolaou',\n",
    "               'Nikola Mirotic':'Nikola Mirotić','Fab Melo':'Fabricio Melo','Zach LaVine':'Zachary LaVine',\n",
    "               'Mike Muscala':'Michael Muscala','Markel Brown':'Demarious Brown','Alex Len':'Oleksiy Len',\n",
    "               'Mitch McGary':'Mitchell McGary','T.J. McConnell':'Timothy McConnell',\n",
    "               'James Michael McAdoo / James McAdoo (Michael)':'James McAdoo','T.J. Warren':'Anthony Warren',\n",
    "               'Andre Roberson':'André Roberson','Will Barton':'William Barton',\n",
    "               'Jonas Valanciunas':'Jonas Valančiūnas',\"DeAndre' Bembry / DeAndre Bembry\":\"DeAndre’ Bembry\",\n",
    "               'D.J. Augustine':'D.J. Augustin','Doug McDermott':'Douglas McDermott',\n",
    "               '(William) Tony Parker':'Tony Parker','Robbie Hummel':'Robert Hummel',\n",
    "               'Kris Joseph':'Kristopher Joseph','Donatas Motiejunas':'Donatas Motiejūnas',\n",
    "               'Pat Connaughton':'Patrick Connaughton','Josh McRoberts':'Joshua McRoberts',\n",
    "               'Shane Larkin':'DeShane Larkin','Kosta Koufos':'Konstantine Koufos',\n",
    "               'Juancho Hernangomez / Juan Hernangomez':'Juan Hernangómez',\n",
    "               'Zaur Pachulia / Zaza Pachulia':'Zaza Pachulia','Alex Abrines':'Alejandro Abrines',\n",
    "               'Kristaps Porzingis':'Kristaps Porziņģis','C.J. Watson':'Charles Watson','Ed Davis (a)':'Edward Davis',\n",
    "               'Raulzinho Neto / Raul Neto':'Raul Neto','T.J. Leaf':'Ty Leaf','Chris Kaman':'Christopher Kaman',\n",
    "               'Goran Dragic':'Goran Dragić','Emanuel Ginobili / Manu Ginobili':'Emanuel Ginóbili',\n",
    "               'Will Bynum':'William Bynum','Jose Juan Barea / Jose Barea / J.J. Barea':'Jose Barea',\n",
    "               'Joe Young':'Joseph Young','Chris McCullough':'Christopher McCullough','Ronnie Price':'Ronald Price',\n",
    "               'Ben Gordon':'Benjamin Gordon','Greg Stiemsma':'Gregory Stiemsma',\n",
    "               'Bojan Bogdanovic':'Bogdan Bogdanovic','P.J. Hairston':'Samuel Hairston',\n",
    "               'Nene / Nene Hilario / Maybyner Hilario':'Nenê Hilario','Nikola Vucevic':'Nikola Vučević',\n",
    "               'Skal Labissiere':'Skal Labissière','Stephen Curry':'Wardell Curry','Brice Johnson':'Jonathan Johnson',\n",
    "               'J.J. Redick':'Jonathan Redick','Dennis Schroder':'Dennis Schröder','Hollis Thompson':'Keith Thompson',\n",
    "               'J.R. Smith':'Earl Smith','Reggie Bullock':'Reginald Bullock','Victor Oladipo':'Kehinde Oladipo',\n",
    "               'Nik Stauskas':'Nikolas Stauskas','Trey Burke':'Alfonso Burke','Festus Ezeli':'Ifeanyi Ezeli'}"
   ]
  },
  {
   "cell_type": "code",
   "execution_count": 6,
   "metadata": {},
   "outputs": [],
   "source": [
    "clean_names_list = []\n",
    "for name in injuries_df['Relinquised']:\n",
    "    try:\n",
    "        clean_names_list.append(clean_names[name])\n",
    "    except:\n",
    "        clean_names_list.append(name)\n",
    "\n",
    "injuries_df['Relinquised Clean'] = clean_names_list"
   ]
  },
  {
   "cell_type": "markdown",
   "metadata": {},
   "source": [
    "## --- Allstars ---\n",
    "- Jack's Code\n",
    "- Players who played in any of the 2013-2018 allstar games, as well as a couple of other highly influential players"
   ]
  },
  {
   "cell_type": "code",
   "execution_count": 7,
   "metadata": {},
   "outputs": [],
   "source": [
    "allstars = {'Carmelo Anthony','Dwyane Wade','Kevin Garnett','LeBron James','Chris Bosh','Luol Deng','Brook Lopez',\n",
    "            'Joakim Noah','Dwight Howard','Dirk Nowitzki','Tony Parker','Nicolas Batum','Serge Ibaka',\n",
    "            'Tyson Chandler','Jrue Holiday','Joakim Noah','Paul George','Kyrie Irving','Chris Paul','Dwight Howard',\n",
    "            'Kevin Durant','Kobe Bryant','Mike Conley','Blake Griffin','Tim Duncan','Tony Parker','David Lee',\n",
    "            'Zach Randolph','LaMarcus Aldridge','James Harden','Russell Westbrook','Dwyane Wade','Carmelo Anthony',\n",
    "            'Paul Millsap','John Wall','Joakim Noah','Roy Hibbert','Joe Johnson','DeMar DeRozan','Kevin Love',\n",
    "            'Blake Griffin','Stephen Curry','Tony Parker','Damian Lillard','Dirk Nowitzki','Anthony Davis',\n",
    "            'Dwight Howard','Klay Thompson','Marc Gasol','DeMarcus Cousins','Pau Gasol','Kyle Lowry','Kyle Korver',\n",
    "            'Al Horford','Jeff Teague','Jimmy Butler','Kawhi Leonard','DeMarcus Cousins','Draymond Green',\n",
    "            'DeMar DeRozan','Isaiah Thomas','Andre Drummond','Giannis Antetokounmpo','Kemba Walker','Gordon Hayward',\n",
    "            'DeAndre Jordan','DeMarcus Cousins','Bradley Beal','Victor Oladipo','Goran Dragić','LaMarcus Aldridge',\n",
    "            'Joel Embiid','Karl-Anthony Towns'}"
   ]
  },
  {
   "cell_type": "code",
   "execution_count": 8,
   "metadata": {},
   "outputs": [],
   "source": [
    "allstars_list = []\n",
    "for player in box_score_df['playDispNm']:\n",
    "    if player in allstars:\n",
    "        allstars_list.append(True)\n",
    "    else:\n",
    "        allstars_list.append(False)\n",
    "box_score_df['Allstar']=allstars_list"
   ]
  },
  {
   "cell_type": "markdown",
   "metadata": {},
   "source": [
    "## --- Simplify Injuries ---\n",
    "- Jack's Code\n",
    "- If you look at the 'Notes' column injuries_df, there are lots of similar kinds of injuries that I wanted to group together. This manually combines a lot of them into more easily analyzable categories."
   ]
  },
  {
   "cell_type": "code",
   "execution_count": 9,
   "metadata": {},
   "outputs": [],
   "source": [
    "# Jack's Code + Hannah\n",
    "clean_injuries_list = []\n",
    "for i in injuries_df['Notes']:\n",
    "    if i.find('ankle')!=-1:\n",
    "        clean_injuries_list.append('ankle')\n",
    "    elif i.find(\"knee\")!=-1:\n",
    "        clean_injuries_list.append(\"knee\")\n",
    "    elif i.find(\"head\")!=-1:\n",
    "        clean_injuries_list.append(\"head\")\n",
    "    elif i.find(\"calf\")!=-1:\n",
    "        clean_injuries_list.append(\"calf\")\n",
    "    elif i.find(\"gastrocnemius\")!=-1:\n",
    "        clean_injuries_list.append(\"calf\") # Hannah added\n",
    "    elif i.find(\"elbow\")!=-1:\n",
    "        clean_injuries_list.append(\"elbow\")\n",
    "    elif i.find(\"wrist\")!=-1:\n",
    "        clean_injuries_list.append(\"wrist\")\n",
    "    elif i.find(\"hand\")!=-1:\n",
    "        clean_injuries_list.append(\"hand\")\n",
    "    elif i.find(\"finger\")!=-1:\n",
    "        clean_injuries_list.append(\"hand\")\n",
    "    elif i.find(\"thumb\")!=-1:\n",
    "        clean_injuries_list.append(\"hand\") # Hannah added\n",
    "    elif i.find(\"foot\")!=-1:\n",
    "        clean_injuries_list.append(\"foot\")\n",
    "    elif i.find(\"toe\")!=-1:\n",
    "        clean_injuries_list.append(\"foot\") # Hannah added\n",
    "    elif i.find(\"heel\")!=-1:\n",
    "        clean_injuries_list.append(\"foot\") # Hannah added\n",
    "    elif i.find(\"back\")!=-1:\n",
    "        clean_injuries_list.append(\"back\")\n",
    "    elif i.find(\"nerve root\")!=-1:\n",
    "        clean_injuries_list.append(\"back\") # Hannah added\n",
    "    elif i.find(\"concussion\")!=-1:\n",
    "        clean_injuries_list.append(\"concussion\")\n",
    "    elif i.find(\"hamstring\")!=-1:\n",
    "        clean_injuries_list.append(\"hamstring\")\n",
    "    elif i.find(\"illness\")!=-1:\n",
    "        clean_injuries_list.append(\"illness\")\n",
    "    elif i.find(\"flu\")!=-1:\n",
    "        clean_injuries_list.append(\"illness\") # Hannah added\n",
    "    elif i.find(\"stomach\") !=-1:\n",
    "        clean_injuries_list.append(\"illness\") # Hannah added\n",
    "    elif i.find(\"respiratory\") !=-1:\n",
    "        clean_injuries_list.append(\"illness\") # Hannah added\n",
    "    elif i.find(\"vertigo\") !=-1:\n",
    "        clean_injuries_list.append(\"illness\") # Hannah added\n",
    "    elif i.find(\"food\")!=-1:\n",
    "        clean_injuries_list.append(\"illness\") # Hannah added\n",
    "    elif i.find(\"infection\")!=-1:\n",
    "        clean_injuries_list.append(\"illness\") # Hannah added\n",
    "    elif i.find(\"appendectomy\")!=-1:\n",
    "        clean_injuries_list.append(\"illness\") # Hannah added\n",
    "    elif i.find(\"strep\")!=-1:\n",
    "        clean_injuries_list.append(\"illness\") # Hannah added\n",
    "    elif i.find(\"gastroenteritis\")!=-1:\n",
    "        clean_injuries_list.append(\"illness\") # Hannah added\n",
    "    elif i.find(\"virus\")!=-1:\n",
    "        clean_injuries_list.append(\"illness\") # Hannah added\n",
    "    elif i.find(\"rest\")!=-1:\n",
    "        clean_injuries_list.append(\"rest\")\n",
    "    elif i.find(\"ACL\") !=-1:\n",
    "        clean_injuries_list.append(\"ACL\") # Hannah added\n",
    "    elif i.find(\"shoulder\") !=-1:\n",
    "        clean_injuries_list.append(\"shoulder\") # Hannah added\n",
    "    elif i.find(\"rotator\") !=-1:\n",
    "        clean_injuries_list.append(\"shoulder\") # Hannah added\n",
    "    elif i.find(\"groin\") !=-1:\n",
    "        clean_injuries_list.append(\"groin\") # Hannah added\n",
    "    elif i.find(\"adductor\") !=-1:\n",
    "        clean_injuries_list.append(\"groin\") # Hannah added\n",
    "    elif i.find(\"eye\") !=-1:\n",
    "        clean_injuries_list.append(\"face\") # Hannah added\n",
    "    elif i.find(\"orbital\") !=-1:\n",
    "        clean_injuries_list.append(\"face\") # Hannah added\n",
    "    elif i.find(\"face\") !=-1:\n",
    "        clean_injuries_list.append(\"face\") # Hannah added\n",
    "    elif i.find(\"facial\") !=-1:\n",
    "        clean_injuries_list.append(\"face\") # Hannah added\n",
    "    elif i.find(\"nose\") !=-1:\n",
    "        clean_injuries_list.append(\"face\") # Hannah added\n",
    "    elif i.find(\"jaw\") !=-1:\n",
    "        clean_injuries_list.append(\"face\") # Hannah added\n",
    "    elif i.find(\"mouth\") !=-1:\n",
    "        clean_injuries_list.append(\"mouth\") # Hannah added\n",
    "    elif i.find(\"oral\") !=-1:\n",
    "        clean_injuries_list.append(\"mouth\") # Hannah added\n",
    "    elif i.find(\"neck\") !=-1:\n",
    "        clean_injuries_list.append(\"neck\") # Hannah added\n",
    "    elif i.find(\"Achilles\") !=-1:\n",
    "        clean_injuries_list.append(\"achilles\") # Hannah added\n",
    "    elif i.find(\"leg\") !=-1:\n",
    "        clean_injuries_list.append(\"leg\") # Hannah added\n",
    "    elif i.find(\"shin\") !=-1:\n",
    "        clean_injuries_list.append(\"leg\") # Hannah added\n",
    "    elif i.find(\"thigh\") !=-1:\n",
    "        clean_injuries_list.append(\"leg\") # Hannah added\n",
    "    elif i.find(\"quadricep\") !=-1:\n",
    "        clean_injuries_list.append(\"leg\") # Hannah added\n",
    "    elif i.find(\"tibia\") !=-1:\n",
    "        clean_injuries_list.append(\"leg\") # Hannah added\n",
    "    elif i.find(\"hip\") !=-1:\n",
    "        clean_injuries_list.append(\"hip\") # Hannah added\n",
    "    elif i.find(\"abductor\") !=-1:\n",
    "        clean_injuries_list.append(\"hip\") # Hannah added\n",
    "    elif i.find(\"tricep\") !=-1:\n",
    "        clean_injuries_list.append(\"arm\") # Hannah added\n",
    "    elif i.find(\"bicep\") !=-1:\n",
    "        clean_injuries_list.append(\"arm\") # Hannah added\n",
    "    elif i.find(\"forearm\") !=-1:\n",
    "        clean_injuries_list.append(\"arm\") # Hannah added\n",
    "    elif i.find(\"rib\") !=-1:\n",
    "        clean_injuries_list.append(\"ribs\") # Hannah added\n",
    "    elif i.find(\"abdominal\") !=-1:\n",
    "        clean_injuries_list.append(\"abdominal\") # Hannah added\n",
    "    elif i.find(\"oblique\") !=-1:\n",
    "        clean_injuries_list.append(\"abdominal\") # Hannah added\n",
    "    elif i.find(\"hernia\") !=-1:\n",
    "        clean_injuries_list.append(\"hernia\") # Hannah added\n",
    "    elif i.find(\"torn\")!=-1:\n",
    "        clean_injuries_list.append(i)\n",
    "    elif i.find(\"undisclosed\") !=-1:\n",
    "        clean_injuries_list.append(\"undisclosed\") # Hannah added\n",
    "    elif i.find(\"unspecified\") !=-1:\n",
    "        clean_injuries_list.append(\"undisclosed\") # Hannah added\n",
    "    elif i.find(\"DNP \") !=-1:\n",
    "        clean_injuries_list.append(\"DNP\") # Hannah added\n",
    "    elif i.find(\"lineup\") !=-1:\n",
    "        clean_injuries_list.append(\"returned to lineup\") # Hannah added\n",
    "    \n",
    "    elif i==i:\n",
    "        clean_injuries_list.append(i)\n",
    "    else:\n",
    "        clean_injuries_list.append(\"nan\")\n",
    "injuries_df['Clean Notes'] = clean_injuries_list"
   ]
  },
  {
   "cell_type": "markdown",
   "metadata": {},
   "source": [
    "## --- Analyze Injuries ---"
   ]
  },
  {
   "cell_type": "markdown",
   "metadata": {},
   "source": [
    "### Top 10 injuries for players"
   ]
  },
  {
   "cell_type": "code",
   "execution_count": 10,
   "metadata": {},
   "outputs": [
    {
     "data": {
      "text/html": [
       "<div>\n",
       "<style scoped>\n",
       "    .dataframe tbody tr th:only-of-type {\n",
       "        vertical-align: middle;\n",
       "    }\n",
       "\n",
       "    .dataframe tbody tr th {\n",
       "        vertical-align: top;\n",
       "    }\n",
       "\n",
       "    .dataframe thead th {\n",
       "        text-align: right;\n",
       "    }\n",
       "</style>\n",
       "<table border=\"1\" class=\"dataframe\">\n",
       "  <thead>\n",
       "    <tr style=\"text-align: right;\">\n",
       "      <th></th>\n",
       "      <th>Injury</th>\n",
       "      <th>Frequency</th>\n",
       "    </tr>\n",
       "  </thead>\n",
       "  <tbody>\n",
       "    <tr>\n",
       "      <th>0</th>\n",
       "      <td>knee</td>\n",
       "      <td>1619</td>\n",
       "    </tr>\n",
       "    <tr>\n",
       "      <th>1</th>\n",
       "      <td>returned to lineup</td>\n",
       "      <td>1584</td>\n",
       "    </tr>\n",
       "    <tr>\n",
       "      <th>2</th>\n",
       "      <td>ankle</td>\n",
       "      <td>1262</td>\n",
       "    </tr>\n",
       "    <tr>\n",
       "      <th>3</th>\n",
       "      <td>foot</td>\n",
       "      <td>629</td>\n",
       "    </tr>\n",
       "    <tr>\n",
       "      <th>4</th>\n",
       "      <td>illness</td>\n",
       "      <td>560</td>\n",
       "    </tr>\n",
       "    <tr>\n",
       "      <th>5</th>\n",
       "      <td>back</td>\n",
       "      <td>559</td>\n",
       "    </tr>\n",
       "    <tr>\n",
       "      <th>6</th>\n",
       "      <td>rest</td>\n",
       "      <td>431</td>\n",
       "    </tr>\n",
       "    <tr>\n",
       "      <th>7</th>\n",
       "      <td>hamstring</td>\n",
       "      <td>373</td>\n",
       "    </tr>\n",
       "    <tr>\n",
       "      <th>8</th>\n",
       "      <td>hand</td>\n",
       "      <td>324</td>\n",
       "    </tr>\n",
       "    <tr>\n",
       "      <th>9</th>\n",
       "      <td>shoulder</td>\n",
       "      <td>320</td>\n",
       "    </tr>\n",
       "  </tbody>\n",
       "</table>\n",
       "</div>"
      ],
      "text/plain": [
       "               Injury  Frequency\n",
       "0                knee       1619\n",
       "1  returned to lineup       1584\n",
       "2               ankle       1262\n",
       "3                foot        629\n",
       "4             illness        560\n",
       "5                back        559\n",
       "6                rest        431\n",
       "7           hamstring        373\n",
       "8                hand        324\n",
       "9            shoulder        320"
      ]
     },
     "execution_count": 10,
     "metadata": {},
     "output_type": "execute_result"
    }
   ],
   "source": [
    "clean_injuries_df = injuries_df['Clean Notes'].value_counts().reset_index()\n",
    "clean_injuries_df = clean_injuries_df.rename(columns = {\"index\":\"Injury\", \"Clean Notes\":\"Frequency\"})\n",
    "clean_injuries_df.head(10)"
   ]
  },
  {
   "cell_type": "markdown",
   "metadata": {},
   "source": [
    "### Knee Injury Stats (ACLs not included)"
   ]
  },
  {
   "cell_type": "code",
   "execution_count": 11,
   "metadata": {
    "scrolled": true
   },
   "outputs": [
    {
     "name": "stdout",
     "output_type": "stream",
     "text": [
      "--- Top 5 players who missed games because of knee injuries: ---\n",
      "Jason Smith                 42\n",
      "Nate Robinson               38\n",
      "Greg Smith (a)              36\n",
      "Nick Young                  33\n",
      "Malcolm Lee / Malcom Lee    32\n",
      "Name: Relinquised Clean, dtype: int64\n",
      "\n",
      "--- Top 5 teams whose players missed games because of knee injuries: ---\n",
      "Hornets    133\n",
      "Nuggets     90\n",
      "Celtics     88\n",
      "Rockets     86\n",
      "Wizards     82\n",
      "Name: Team, dtype: int64\n"
     ]
    }
   ],
   "source": [
    "knee_df = injuries_df[injuries_df['Clean Notes'] == 'knee']\n",
    "print(\"--- Top 5 players who missed games because of knee injuries: ---\")\n",
    "print(knee_df['Relinquised Clean'].value_counts().head())\n",
    "print()\n",
    "print(\"--- Top 5 teams whose players missed games because of knee injuries: ---\")\n",
    "print(knee_df['Team'].value_counts().head())"
   ]
  },
  {
   "cell_type": "code",
   "execution_count": 12,
   "metadata": {},
   "outputs": [
    {
     "name": "stdout",
     "output_type": "stream",
     "text": [
      "--- Top 5 months for knee injuries: ---\n",
      "3     362\n",
      "4     299\n",
      "1     258\n",
      "12    228\n",
      "2     213\n",
      "Name: Date, dtype: int64\n",
      "\n",
      "--- Top 5 years for knee injuries: ---\n",
      "2014    399\n",
      "2012    285\n",
      "2013    269\n",
      "2011    162\n",
      "2016    151\n",
      "Name: Date, dtype: int64\n"
     ]
    }
   ],
   "source": [
    "print(\"--- Top 5 months for knee injuries: ---\")\n",
    "print(pd.DatetimeIndex(knee_df['Date']).month.value_counts().head())\n",
    "print()\n",
    "print(\"--- Top 5 years for knee injuries: ---\")\n",
    "print(pd.DatetimeIndex(knee_df['Date']).year.value_counts().head())"
   ]
  },
  {
   "cell_type": "code",
   "execution_count": 13,
   "metadata": {},
   "outputs": [
    {
     "name": "stdout",
     "output_type": "stream",
     "text": [
      "--- Stats for number of games missed for knee injuries per player: ---\n",
      "count    365.000000\n",
      "mean       4.432877\n",
      "std        5.871707\n",
      "min        1.000000\n",
      "25%        1.000000\n",
      "50%        2.000000\n",
      "75%        5.000000\n",
      "max       42.000000\n",
      "Name: Relinquised Clean, dtype: float64\n"
     ]
    }
   ],
   "source": [
    "avg_knee_out = knee_df['Relinquised Clean'].value_counts().reset_index()\n",
    "print(\"--- Stats for number of games missed for knee injuries per player: ---\")\n",
    "print(avg_knee_out['Relinquised Clean'].describe())"
   ]
  },
  {
   "cell_type": "markdown",
   "metadata": {},
   "source": [
    "### Ankle Injury Stats"
   ]
  },
  {
   "cell_type": "code",
   "execution_count": 14,
   "metadata": {},
   "outputs": [
    {
     "name": "stdout",
     "output_type": "stream",
     "text": [
      "--- Top 5 players who missed games because of ankle injuries: ---\n",
      "Nikola Pekovic      24\n",
      "Wardell Curry       20\n",
      "Calvin Miles        20\n",
      "Danilo Gallinari    18\n",
      "Ersan Ilyasova      18\n",
      "Name: Relinquised Clean, dtype: int64\n",
      "\n",
      "--- Top 5 teams whose players missed games because of ankle injuries: ---\n",
      "Hornets         80\n",
      "Timberwolves    76\n",
      "Bucks           70\n",
      "Celtics         68\n",
      "Magic           65\n",
      "Name: Team, dtype: int64\n"
     ]
    }
   ],
   "source": [
    "ankle_df = injuries_df[injuries_df['Clean Notes'] == 'ankle']\n",
    "print(\"--- Top 5 players who missed games because of ankle injuries: ---\")\n",
    "print(ankle_df['Relinquised Clean'].value_counts().head())\n",
    "print()\n",
    "print(\"--- Top 5 teams whose players missed games because of ankle injuries: ---\")\n",
    "print(ankle_df['Team'].value_counts().head())"
   ]
  },
  {
   "cell_type": "code",
   "execution_count": 15,
   "metadata": {},
   "outputs": [
    {
     "name": "stdout",
     "output_type": "stream",
     "text": [
      "--- Top 5 months for ankle injuries: ---\n",
      "3     267\n",
      "1     237\n",
      "4     220\n",
      "11    166\n",
      "2     153\n",
      "Name: Date, dtype: int64\n",
      "\n",
      "--- Top 5 years for knee injuries: ---\n",
      "2013    274\n",
      "2014    245\n",
      "2012    231\n",
      "2015    125\n",
      "2017    114\n",
      "Name: Date, dtype: int64\n"
     ]
    }
   ],
   "source": [
    "print(\"--- Top 5 months for ankle injuries: ---\")\n",
    "print(pd.DatetimeIndex(ankle_df['Date']).month.value_counts().head())\n",
    "print()\n",
    "print(\"--- Top 5 years for knee injuries: ---\")\n",
    "print(pd.DatetimeIndex(ankle_df['Date']).year.value_counts().head())"
   ]
  },
  {
   "cell_type": "code",
   "execution_count": 16,
   "metadata": {},
   "outputs": [
    {
     "name": "stdout",
     "output_type": "stream",
     "text": [
      "--- Stats for number of games missed for ankle injuries per player: ---\n",
      "count    386.00000\n",
      "mean       3.26943\n",
      "std        3.61310\n",
      "min        1.00000\n",
      "25%        1.00000\n",
      "50%        2.00000\n",
      "75%        4.00000\n",
      "max       24.00000\n",
      "Name: Relinquised Clean, dtype: float64\n"
     ]
    }
   ],
   "source": [
    "avg_ankle_out = ankle_df['Relinquised Clean'].value_counts().reset_index()\n",
    "print(\"--- Stats for number of games missed for ankle injuries per player: ---\")\n",
    "print(avg_ankle_out['Relinquised Clean'].describe())"
   ]
  },
  {
   "cell_type": "markdown",
   "metadata": {},
   "source": [
    "### Foot Injury Stats"
   ]
  },
  {
   "cell_type": "code",
   "execution_count": 17,
   "metadata": {},
   "outputs": [
    {
     "name": "stdout",
     "output_type": "stream",
     "text": [
      "--- Top 5 players who missed games because of foot injuries: ---\n",
      "Nenê Hilario       21\n",
      "Rasheed Wallace    19\n",
      "Trevor Booker      17\n",
      "Marcus Camby       17\n",
      "Michael Beasley    17\n",
      "Name: Relinquised Clean, dtype: int64\n",
      "\n",
      "--- Top 5 teams whose players missed games because of foot injuries: ---\n",
      "Bucks           50\n",
      "Knicks          43\n",
      "Wizards         41\n",
      "Magic           37\n",
      "Timberwolves    35\n",
      "Name: Team, dtype: int64\n"
     ]
    }
   ],
   "source": [
    "foot_df = injuries_df[injuries_df['Clean Notes'] == 'foot']\n",
    "print(\"--- Top 5 players who missed games because of foot injuries: ---\")\n",
    "print(foot_df['Relinquised Clean'].value_counts().head())\n",
    "print()\n",
    "print(\"--- Top 5 teams whose players missed games because of foot injuries: ---\")\n",
    "print(foot_df['Team'].value_counts().head())"
   ]
  },
  {
   "cell_type": "code",
   "execution_count": 18,
   "metadata": {},
   "outputs": [
    {
     "name": "stdout",
     "output_type": "stream",
     "text": [
      "--- Top 5 months for foot injuries: ---\n",
      "1     130\n",
      "12    121\n",
      "4      97\n",
      "3      93\n",
      "2      73\n",
      "Name: Date, dtype: int64\n",
      "\n",
      "--- Top 5 years for foot injuries: ---\n",
      "2012    167\n",
      "2013    128\n",
      "2016     74\n",
      "2014     70\n",
      "2017     56\n",
      "Name: Date, dtype: int64\n"
     ]
    }
   ],
   "source": [
    "print(\"--- Top 5 months for foot injuries: ---\")\n",
    "print(pd.DatetimeIndex(foot_df['Date']).month.value_counts().head())\n",
    "print()\n",
    "print(\"--- Top 5 years for foot injuries: ---\")\n",
    "print(pd.DatetimeIndex(foot_df['Date']).year.value_counts().head())"
   ]
  },
  {
   "cell_type": "code",
   "execution_count": 19,
   "metadata": {},
   "outputs": [
    {
     "name": "stdout",
     "output_type": "stream",
     "text": [
      "--- Stats for number of games missed for foot injuries per player: ---\n",
      "count    202.000000\n",
      "mean       3.113861\n",
      "std        3.492979\n",
      "min        1.000000\n",
      "25%        1.000000\n",
      "50%        2.000000\n",
      "75%        3.750000\n",
      "max       21.000000\n",
      "Name: Relinquised Clean, dtype: float64\n"
     ]
    }
   ],
   "source": [
    "avg_foot_out = foot_df['Relinquised Clean'].value_counts().reset_index()\n",
    "print(\"--- Stats for number of games missed for foot injuries per player: ---\")\n",
    "print(avg_foot_out['Relinquised Clean'].describe())"
   ]
  },
  {
   "cell_type": "markdown",
   "metadata": {},
   "source": [
    "### QUESTION TO LOOK UP - HOW MANY INJURIES DO TEAMS THAT WIN THE CHAMPIONSHIP AVERAGE THE SEASON THEY WON?\n",
    "    - IS THIS ABOVE OR BELOW LEAGUE MINIMUM?\n",
    "    - HOW DOES THIS STACK UP AGAINST THE TEAM THAT MADE IT TO THE SHIP BUT LOST?"
   ]
  },
  {
   "cell_type": "markdown",
   "metadata": {},
   "source": [
    "### DO THE SAME STATS THAT YOU DID FOR THE TOP 3 INJURIES FOR THE ALLSTARS\n",
    "    - ARE THEY ABOVE OR BELOW LEAGUE MINIMUM?\n",
    "    - ARE THEY THE SAME INJURIES AS THE REST OF THE LEAGUE?\n",
    "    - DO THEY RECOVER FASTER? SLOWER? SAME?"
   ]
  },
  {
   "cell_type": "code",
   "execution_count": null,
   "metadata": {},
   "outputs": [],
   "source": []
  }
 ],
 "metadata": {
  "kernelspec": {
   "display_name": "Python 3",
   "language": "python",
   "name": "python3"
  },
  "language_info": {
   "codemirror_mode": {
    "name": "ipython",
    "version": 3
   },
   "file_extension": ".py",
   "mimetype": "text/x-python",
   "name": "python",
   "nbconvert_exporter": "python",
   "pygments_lexer": "ipython3",
   "version": "3.6.7"
  }
 },
 "nbformat": 4,
 "nbformat_minor": 2
}
