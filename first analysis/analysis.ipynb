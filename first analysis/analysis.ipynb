{
 "cells": [
  {
   "cell_type": "code",
   "execution_count": 141,
   "metadata": {},
   "outputs": [],
   "source": [
    "import pandas as pd\n",
    "pd.set_option('display.max_columns', 500)\n",
    "import matplotlib.pyplot as plt\n",
    "import seaborn as sb"
   ]
  },
  {
   "cell_type": "code",
   "execution_count": 2,
   "metadata": {},
   "outputs": [
    {
     "name": "stdout",
     "output_type": "stream",
     "text": [
      "\u001b[31m2012-18_officialBoxScore.csv\u001b[m\u001b[m*  \u001b[31m2017-18_standings.csv\u001b[m\u001b[m*\r\n",
      "\u001b[31m2012-18_playerBoxScore.csv\u001b[m\u001b[m*    \u001b[31m2017-18_teamBoxScore.csv\u001b[m\u001b[m*\r\n",
      "\u001b[31m2012-18_standings.csv\u001b[m\u001b[m*         Untitled.ipynb\r\n",
      "\u001b[31m2012-18_teamBoxScore.csv\u001b[m\u001b[m*      \u001b[31minjuries.csv\u001b[m\u001b[m*\r\n",
      "\u001b[31m2016-17_officialBoxScore.csv\u001b[m\u001b[m*  \u001b[31mmetadata_officialBoxScore.pdf\u001b[m\u001b[m*\r\n",
      "\u001b[31m2016-17_playerBoxScore.csv\u001b[m\u001b[m*    \u001b[31mmetadata_playerBoxScore.pdf\u001b[m\u001b[m*\r\n",
      "\u001b[31m2016-17_standings.csv\u001b[m\u001b[m*         \u001b[31mmetadata_standing.pdf\u001b[m\u001b[m*\r\n",
      "\u001b[31m2016-17_teamBoxScore.csv\u001b[m\u001b[m*      \u001b[31mmetadata_teamBoxScore.pdf\u001b[m\u001b[m*\r\n",
      "\u001b[31m2017-18_officialBoxScore.csv\u001b[m\u001b[m*  \u001b[31mteamBoxScore.csv\u001b[m\u001b[m*\r\n",
      "\u001b[31m2017-18_playerBoxScore.csv\u001b[m\u001b[m*\r\n"
     ]
    }
   ],
   "source": [
    "ls"
   ]
  },
  {
   "cell_type": "code",
   "execution_count": 78,
   "metadata": {},
   "outputs": [],
   "source": [
    "players = pd.read_csv(\"2012-18_playerBoxScore.csv\")\n",
    "players['gmDate']= players['gmDate'].apply(lambda x:pd.to_datetime(x))"
   ]
  },
  {
   "cell_type": "code",
   "execution_count": 18,
   "metadata": {},
   "outputs": [
    {
     "data": {
      "text/html": [
       "<div>\n",
       "<style scoped>\n",
       "    .dataframe tbody tr th:only-of-type {\n",
       "        vertical-align: middle;\n",
       "    }\n",
       "\n",
       "    .dataframe tbody tr th {\n",
       "        vertical-align: top;\n",
       "    }\n",
       "\n",
       "    .dataframe thead th {\n",
       "        text-align: right;\n",
       "    }\n",
       "</style>\n",
       "<table border=\"1\" class=\"dataframe\">\n",
       "  <thead>\n",
       "    <tr style=\"text-align: right;\">\n",
       "      <th></th>\n",
       "      <th>Date</th>\n",
       "      <th>Team</th>\n",
       "      <th>Acquired</th>\n",
       "      <th>Relinquised</th>\n",
       "      <th>Notes</th>\n",
       "    </tr>\n",
       "  </thead>\n",
       "  <tbody>\n",
       "    <tr>\n",
       "      <th>0</th>\n",
       "      <td>2010-10-03</td>\n",
       "      <td>Bulls</td>\n",
       "      <td>NaN</td>\n",
       "      <td>Carlos Boozer</td>\n",
       "      <td>fractured bone in right pinky finger (out inde...</td>\n",
       "    </tr>\n",
       "    <tr>\n",
       "      <th>1</th>\n",
       "      <td>2010-10-06</td>\n",
       "      <td>Pistons</td>\n",
       "      <td>NaN</td>\n",
       "      <td>Jonas Jerebko</td>\n",
       "      <td>torn right Acchilles tendon (out indefinitely)</td>\n",
       "    </tr>\n",
       "  </tbody>\n",
       "</table>\n",
       "</div>"
      ],
      "text/plain": [
       "         Date     Team Acquired    Relinquised  \\\n",
       "0  2010-10-03    Bulls      NaN  Carlos Boozer   \n",
       "1  2010-10-06  Pistons      NaN  Jonas Jerebko   \n",
       "\n",
       "                                               Notes  \n",
       "0  fractured bone in right pinky finger (out inde...  \n",
       "1     torn right Acchilles tendon (out indefinitely)  "
      ]
     },
     "execution_count": 18,
     "metadata": {},
     "output_type": "execute_result"
    }
   ],
   "source": [
    "ij = pd.read_csv(\"injuries.csv\")\n",
    "ij.head(2)\n"
   ]
  },
  {
   "cell_type": "code",
   "execution_count": null,
   "metadata": {},
   "outputs": [],
   "source": []
  },
  {
   "cell_type": "code",
   "execution_count": 138,
   "metadata": {
    "collapsed": true
   },
   "outputs": [
    {
     "data": {
      "text/plain": [
       "[200,\n",
       " 519,\n",
       " 967,\n",
       " 1488,\n",
       " 1841,\n",
       " 3989,\n",
       " 4355,\n",
       " 4479,\n",
       " 4492,\n",
       " 5069,\n",
       " 6748,\n",
       " 6814,\n",
       " 7133,\n",
       " 8807]"
      ]
     },
     "execution_count": 138,
     "metadata": {},
     "output_type": "execute_result"
    }
   ],
   "source": [
    "\n",
    "l = [i for i in range(len(ij)) if ij.loc[i]['Notes'].find(\"poison\")!=-1]\n",
    "ij.loc[l]"
   ]
  },
  {
   "cell_type": "code",
   "execution_count": 140,
   "metadata": {},
   "outputs": [],
   "source": [
    "#ij['Notes'].value_counts()[-40:]"
   ]
  },
  {
   "cell_type": "code",
   "execution_count": 19,
   "metadata": {},
   "outputs": [],
   "source": [
    "ij['Date'] = ij['Date'].apply(lambda x:pd.to_datetime(x))"
   ]
  },
  {
   "cell_type": "code",
   "execution_count": 86,
   "metadata": {},
   "outputs": [],
   "source": [
    "a = ij[ij['Date']>pd.to_datetime(\"2012-10-29\")]\n",
    "\n",
    "#a[a['Acquired']==a['Acquired']].head(1)"
   ]
  },
  {
   "cell_type": "code",
   "execution_count": 87,
   "metadata": {},
   "outputs": [],
   "source": [
    "#a[a['Acquired']=='Derrick Rose'].append(a[a['Relinquised']=='Derrick Rose']).reset_index().sort_values('index').head(1)"
   ]
  },
  {
   "cell_type": "code",
   "execution_count": 114,
   "metadata": {},
   "outputs": [],
   "source": [
    "jokic_injuries = [i for i in a[a['Relinquised']=='Nikola Jokic']['Date']]\n",
    "a1 = jokic_injuries[2]"
   ]
  },
  {
   "cell_type": "code",
   "execution_count": 93,
   "metadata": {},
   "outputs": [
    {
     "data": {
      "text/html": [
       "<div>\n",
       "<style scoped>\n",
       "    .dataframe tbody tr th:only-of-type {\n",
       "        vertical-align: middle;\n",
       "    }\n",
       "\n",
       "    .dataframe tbody tr th {\n",
       "        vertical-align: top;\n",
       "    }\n",
       "\n",
       "    .dataframe thead th {\n",
       "        text-align: right;\n",
       "    }\n",
       "</style>\n",
       "<table border=\"1\" class=\"dataframe\">\n",
       "  <thead>\n",
       "    <tr style=\"text-align: right;\">\n",
       "      <th></th>\n",
       "      <th>Date</th>\n",
       "      <th>Team</th>\n",
       "      <th>Acquired</th>\n",
       "      <th>Relinquised</th>\n",
       "      <th>Notes</th>\n",
       "    </tr>\n",
       "  </thead>\n",
       "  <tbody>\n",
       "    <tr>\n",
       "      <th>6394</th>\n",
       "      <td>2015-11-03</td>\n",
       "      <td>Nuggets</td>\n",
       "      <td>NaN</td>\n",
       "      <td>Nikola Jokic</td>\n",
       "      <td>strained lower back (DTD)</td>\n",
       "    </tr>\n",
       "    <tr>\n",
       "      <th>8111</th>\n",
       "      <td>2017-01-06</td>\n",
       "      <td>Nuggets</td>\n",
       "      <td>NaN</td>\n",
       "      <td>Nikola Jokic</td>\n",
       "      <td>illness (DTD)</td>\n",
       "    </tr>\n",
       "    <tr>\n",
       "      <th>8264</th>\n",
       "      <td>2017-01-27</td>\n",
       "      <td>Nuggets</td>\n",
       "      <td>NaN</td>\n",
       "      <td>Nikola Jokic</td>\n",
       "      <td>strained left hip flexor (DTD)</td>\n",
       "    </tr>\n",
       "    <tr>\n",
       "      <th>9038</th>\n",
       "      <td>2017-11-30</td>\n",
       "      <td>Nuggets</td>\n",
       "      <td>NaN</td>\n",
       "      <td>Nikola Jokic</td>\n",
       "      <td>sprained left ankle (DTD)</td>\n",
       "    </tr>\n",
       "  </tbody>\n",
       "</table>\n",
       "</div>"
      ],
      "text/plain": [
       "           Date     Team Acquired   Relinquised  \\\n",
       "6394 2015-11-03  Nuggets      NaN  Nikola Jokic   \n",
       "8111 2017-01-06  Nuggets      NaN  Nikola Jokic   \n",
       "8264 2017-01-27  Nuggets      NaN  Nikola Jokic   \n",
       "9038 2017-11-30  Nuggets      NaN  Nikola Jokic   \n",
       "\n",
       "                               Notes  \n",
       "6394       strained lower back (DTD)  \n",
       "8111                   illness (DTD)  \n",
       "8264  strained left hip flexor (DTD)  \n",
       "9038       sprained left ankle (DTD)  "
      ]
     },
     "execution_count": 93,
     "metadata": {},
     "output_type": "execute_result"
    }
   ],
   "source": [
    "a[a['Relinquised']=='Nikola Jokic']"
   ]
  },
  {
   "cell_type": "code",
   "execution_count": 143,
   "metadata": {},
   "outputs": [
    {
     "name": "stderr",
     "output_type": "stream",
     "text": [
      "/anaconda3/lib/python3.6/site-packages/seaborn/categorical.py:3666: UserWarning: The `factorplot` function has been renamed to `catplot`. The original name will be removed in a future release. Please update your code. Note that the default `kind` in `factorplot` (`'point'`) has changed `'strip'` in `catplot`.\n",
      "  warnings.warn(msg)\n"
     ]
    },
    {
     "data": {
      "image/png": "[encoded data removed]",
      "text/plain": [
       "<Figure size 360x360 with 1 Axes>"
      ]
     },
     "metadata": {
      "needs_background": "light"
     },
     "output_type": "display_data"
    }
   ],
   "source": [
    "b = players[players['playLNm']=='Jokić'].reset_index()\n",
    "#a1 = pd.to_datetime(\"2017-11-30\")\n",
    "if len(b[b['gmDate']==a1])>0:\n",
    "    print(\"here\")\n",
    "    game_injury_index = b[b['gmDate']==a1].index[0]\n",
    "    pre_inj = b.loc[range(game_injury_index-7,game_injury_index)]\n",
    "    post_inj = b.loc[range(game_injury_index,game_injury_index+7)]\n",
    "pre = sb.factorplot(data=pre_inj,x=\"gmDate\",y=\"playPTS\")\n",
    "pre.set_xticklabels(rotation=45)\n",
    "plt.show()"
   ]
  },
  {
   "cell_type": "code",
   "execution_count": 116,
   "metadata": {},
   "outputs": [
    {
     "data": {
      "text/plain": [
       "<matplotlib.axes._subplots.AxesSubplot at 0x131800400>"
      ]
     },
     "execution_count": 116,
     "metadata": {},
     "output_type": "execute_result"
    },
    {
     "data": {
      "image/png": "[encoded data removed]",
      "text/plain": [
       "<Figure size 432x288 with 1 Axes>"
      ]
     },
     "metadata": {
      "needs_background": "light"
     },
     "output_type": "display_data"
    }
   ],
   "source": [
    "post_inj.plot(\"gmDate\",\"playPTS\")"
   ]
  },
  {
   "cell_type": "code",
   "execution_count": 91,
   "metadata": {},
   "outputs": [
    {
     "data": {
      "text/html": [
       "<div>\n",
       "<style scoped>\n",
       "    .dataframe tbody tr th:only-of-type {\n",
       "        vertical-align: middle;\n",
       "    }\n",
       "\n",
       "    .dataframe tbody tr th {\n",
       "        vertical-align: top;\n",
       "    }\n",
       "\n",
       "    .dataframe thead th {\n",
       "        text-align: right;\n",
       "    }\n",
       "</style>\n",
       "<table border=\"1\" class=\"dataframe\">\n",
       "  <thead>\n",
       "    <tr style=\"text-align: right;\">\n",
       "      <th></th>\n",
       "      <th>index</th>\n",
       "      <th>gmDate</th>\n",
       "      <th>gmTime</th>\n",
       "      <th>seasTyp</th>\n",
       "      <th>playLNm</th>\n",
       "      <th>playFNm</th>\n",
       "      <th>teamAbbr</th>\n",
       "      <th>teamConf</th>\n",
       "      <th>teamDiv</th>\n",
       "      <th>teamLoc</th>\n",
       "      <th>teamRslt</th>\n",
       "      <th>teamDayOff</th>\n",
       "      <th>offLNm1</th>\n",
       "      <th>offFNm1</th>\n",
       "      <th>offLNm2</th>\n",
       "      <th>offFNm2</th>\n",
       "      <th>offLNm3</th>\n",
       "      <th>offFNm3</th>\n",
       "      <th>playDispNm</th>\n",
       "      <th>playStat</th>\n",
       "      <th>playMin</th>\n",
       "      <th>playPos</th>\n",
       "      <th>playHeight</th>\n",
       "      <th>playWeight</th>\n",
       "      <th>playBDate</th>\n",
       "      <th>playPTS</th>\n",
       "      <th>playAST</th>\n",
       "      <th>playTO</th>\n",
       "      <th>playSTL</th>\n",
       "      <th>playBLK</th>\n",
       "      <th>playPF</th>\n",
       "      <th>playFGA</th>\n",
       "      <th>playFGM</th>\n",
       "      <th>playFG%</th>\n",
       "      <th>play2PA</th>\n",
       "      <th>play2PM</th>\n",
       "      <th>play2P%</th>\n",
       "      <th>play3PA</th>\n",
       "      <th>play3PM</th>\n",
       "      <th>play3P%</th>\n",
       "      <th>playFTA</th>\n",
       "      <th>playFTM</th>\n",
       "      <th>playFT%</th>\n",
       "      <th>playORB</th>\n",
       "      <th>playDRB</th>\n",
       "      <th>playTRB</th>\n",
       "      <th>opptAbbr</th>\n",
       "      <th>opptConf</th>\n",
       "      <th>opptDiv</th>\n",
       "      <th>opptLoc</th>\n",
       "      <th>opptRslt</th>\n",
       "      <th>opptDayOff</th>\n",
       "    </tr>\n",
       "  </thead>\n",
       "  <tbody>\n",
       "  </tbody>\n",
       "</table>\n",
       "</div>"
      ],
      "text/plain": [
       "Empty DataFrame\n",
       "Columns: [index, gmDate, gmTime, seasTyp, playLNm, playFNm, teamAbbr, teamConf, teamDiv, teamLoc, teamRslt, teamDayOff, offLNm1, offFNm1, offLNm2, offFNm2, offLNm3, offFNm3, playDispNm, playStat, playMin, playPos, playHeight, playWeight, playBDate, playPTS, playAST, playTO, playSTL, playBLK, playPF, playFGA, playFGM, playFG%, play2PA, play2PM, play2P%, play3PA, play3PM, play3P%, playFTA, playFTM, playFT%, playORB, playDRB, playTRB, opptAbbr, opptConf, opptDiv, opptLoc, opptRslt, opptDayOff]\n",
       "Index: []"
      ]
     },
     "execution_count": 91,
     "metadata": {},
     "output_type": "execute_result"
    }
   ],
   "source": [
    "b[b['gmDate']==a1]"
   ]
  },
  {
   "cell_type": "code",
   "execution_count": 104,
   "metadata": {},
   "outputs": [
    {
     "data": {
      "text/plain": [
       "index                      134458\n",
       "gmDate        2017-11-17 00:00:00\n",
       "gmTime                      10:30\n",
       "seasTyp                   Regular\n",
       "playLNm                     Jokić\n",
       "playFNm                    Nikola\n",
       "teamAbbr                      DEN\n",
       "teamConf                     West\n",
       "teamDiv                 Northwest\n",
       "teamLoc                      Home\n",
       "teamRslt                      Win\n",
       "teamDayOff                      4\n",
       "offLNm1                    Wright\n",
       "offFNm1                      Sean\n",
       "offLNm2                     Kogut\n",
       "offFNm2                     Marat\n",
       "offLNm3                    Cutler\n",
       "offFNm3                     Kevin\n",
       "playDispNm           Nikola Jokić\n",
       "playStat                  Starter\n",
       "playMin                        27\n",
       "playPos                         C\n",
       "playHeight                     82\n",
       "playWeight                    254\n",
       "playBDate              1995-02-19\n",
       "playPTS                        13\n",
       "playAST                         6\n",
       "playTO                          2\n",
       "playSTL                         0\n",
       "playBLK                         1\n",
       "playPF                          3\n",
       "playFGA                         5\n",
       "playFGM                         3\n",
       "playFG%                       0.6\n",
       "play2PA                         3\n",
       "play2PM                         2\n",
       "play2P%                    0.6667\n",
       "play3PA                         2\n",
       "play3PM                         1\n",
       "play3P%                       0.5\n",
       "playFTA                         6\n",
       "playFTM                         6\n",
       "playFT%                         1\n",
       "playORB                         3\n",
       "playDRB                         8\n",
       "playTRB                        11\n",
       "opptAbbr                       NO\n",
       "opptConf                     West\n",
       "opptDiv                 Southwest\n",
       "opptLoc                      Away\n",
       "opptRslt                     Loss\n",
       "opptDayOff                      2\n",
       "Name: 167, dtype: object"
      ]
     },
     "execution_count": 104,
     "metadata": {},
     "output_type": "execute_result"
    }
   ],
   "source": [
    "b.loc[167]"
   ]
  },
  {
   "cell_type": "code",
   "execution_count": null,
   "metadata": {},
   "outputs": [],
   "source": []
  }
 ],
 "metadata": {
  "kernelspec": {
   "display_name": "Python 3",
   "language": "python",
   "name": "python3"
  },
  "language_info": {
   "codemirror_mode": {
    "name": "ipython",
    "version": 3
   },
   "file_extension": ".py",
   "mimetype": "text/x-python",
   "name": "python",
   "nbconvert_exporter": "python",
   "pygments_lexer": "ipython3",
   "version": "3.6.7"
  }
 },
 "nbformat": 4,
 "nbformat_minor": 2
}
