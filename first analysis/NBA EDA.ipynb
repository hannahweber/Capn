{
 "cells": [
  {
   "cell_type": "markdown",
   "metadata": {},
   "source": [
    "# NBA EDA"
   ]
  },
  {
   "cell_type": "code",
   "execution_count": 1,
   "metadata": {},
   "outputs": [],
   "source": [
    "import pandas as pd\n",
    "import numpy as np\n",
    "from datetime import datetime\n",
    "\n",
    "import matplotlib.pyplot as plt"
   ]
  },
  {
   "cell_type": "markdown",
   "metadata": {},
   "source": [
    "## #1: Formulate your questions\n",
    "- TBD"
   ]
  },
  {
   "cell_type": "markdown",
   "metadata": {},
   "source": [
    "## #2: Read in the data"
   ]
  },
  {
   "cell_type": "code",
   "execution_count": 2,
   "metadata": {},
   "outputs": [],
   "source": [
    "box_score_df = pd.read_csv(\"2012-18_playerBoxScore.csv\")\n",
    "injuries_df = pd.read_csv(\"injuries.csv\")"
   ]
  },
  {
   "cell_type": "code",
   "execution_count": 3,
   "metadata": {},
   "outputs": [
    {
     "data": {
      "text/plain": [
       "Index(['gmDate', 'gmTime', 'seasTyp', 'playLNm', 'playFNm', 'teamAbbr',\n",
       "       'teamConf', 'teamDiv', 'teamLoc', 'teamRslt', 'teamDayOff', 'offLNm1',\n",
       "       'offFNm1', 'offLNm2', 'offFNm2', 'offLNm3', 'offFNm3', 'playDispNm',\n",
       "       'playStat', 'playMin', 'playPos', 'playHeight', 'playWeight',\n",
       "       'playBDate', 'playPTS', 'playAST', 'playTO', 'playSTL', 'playBLK',\n",
       "       'playPF', 'playFGA', 'playFGM', 'playFG%', 'play2PA', 'play2PM',\n",
       "       'play2P%', 'play3PA', 'play3PM', 'play3P%', 'playFTA', 'playFTM',\n",
       "       'playFT%', 'playORB', 'playDRB', 'playTRB', 'opptAbbr', 'opptConf',\n",
       "       'opptDiv', 'opptLoc', 'opptRslt', 'opptDayOff'],\n",
       "      dtype='object')"
      ]
     },
     "execution_count": 3,
     "metadata": {},
     "output_type": "execute_result"
    }
   ],
   "source": [
    "box_score_df.columns"
   ]
  },
  {
   "cell_type": "code",
   "execution_count": 4,
   "metadata": {},
   "outputs": [
    {
     "data": {
      "text/plain": [
       "Index(['Date', 'Team', 'Acquired', 'Relinquised', 'Notes'], dtype='object')"
      ]
     },
     "execution_count": 4,
     "metadata": {},
     "output_type": "execute_result"
    }
   ],
   "source": [
    "injuries_df.columns"
   ]
  },
  {
   "cell_type": "markdown",
   "metadata": {},
   "source": [
    "### Combine the first and last name columns in box_score_df "
   ]
  },
  {
   "cell_type": "code",
   "execution_count": 5,
   "metadata": {},
   "outputs": [],
   "source": [
    "box_score_df['playNm'] = box_score_df['playFNm'] + ' ' + box_score_df['playLNm']"
   ]
  },
  {
   "cell_type": "markdown",
   "metadata": {},
   "source": [
    "### Clean up the teamAbbr column in box_score_df"
   ]
  },
  {
   "cell_type": "code",
   "execution_count": 6,
   "metadata": {},
   "outputs": [],
   "source": [
    "box_score_df['Team'] = box_score_df['teamAbbr']\n",
    "box_score_df['Team'] = box_score_df['Team'].replace('WAS', 'Wizards')\n",
    "box_score_df['Team'] = box_score_df['Team'].replace('CLE', 'Cavaliers')\n",
    "box_score_df['Team'] = box_score_df['Team'].replace('BOS', 'Celtics')\n",
    "box_score_df['Team'] = box_score_df['Team'].replace('MIA', 'Heat')\n",
    "box_score_df['Team'] = box_score_df['Team'].replace('DAL', 'Mavericks')\n",
    "box_score_df['Team'] = box_score_df['Team'].replace('LAL', 'Lakers')\n",
    "box_score_df['Team'] = box_score_df['Team'].replace('DEN', 'Nuggets')\n",
    "box_score_df['Team'] = box_score_df['Team'].replace('PHI', '76ers')\n",
    "box_score_df['Team'] = box_score_df['Team'].replace('IND', 'Pacers')\n",
    "box_score_df['Team'] = box_score_df['Team'].replace('TOR', 'Raptors')\n",
    "box_score_df['Team'] = box_score_df['Team'].replace('HOU', 'Rockets')\n",
    "box_score_df['Team'] = box_score_df['Team'].replace('DET', 'Pistons')\n",
    "box_score_df['Team'] = box_score_df['Team'].replace('SAC', 'Kings')\n",
    "box_score_df['Team'] = box_score_df['Team'].replace('CHI', 'Bulls')\n",
    "box_score_df['Team'] = box_score_df['Team'].replace('WAS', 'Washington')\n",
    "box_score_df['Team'] = box_score_df['Team'].replace('SA', 'Spurs')\n",
    "box_score_df['Team'] = box_score_df['Team'].replace('NO', 'Pelicans')\n",
    "box_score_df['Team'] = box_score_df['Team'].replace('UTA', 'Jazz')\n",
    "box_score_df['Team'] = box_score_df['Team'].replace('GS', 'Warriors')\n",
    "box_score_df['Team'] = box_score_df['Team'].replace('PHO', 'Suns')\n",
    "box_score_df['Team'] = box_score_df['Team'].replace('MEM', 'Grizzlies')\n",
    "box_score_df['Team'] = box_score_df['Team'].replace('LAC', 'Clippers')\n",
    "box_score_df['Team'] = box_score_df['Team'].replace('POR', 'Blazers')\n",
    "box_score_df['Team'] = box_score_df['Team'].replace('OKC', 'Thunder')\n",
    "box_score_df['Team'] = box_score_df['Team'].replace('ORL', 'Magic')\n",
    "box_score_df['Team'] = box_score_df['Team'].replace('CHA', 'Hornets')\n",
    "box_score_df['Team'] = box_score_df['Team'].replace('MIL', 'Bucks')\n",
    "box_score_df['Team'] = box_score_df['Team'].replace('ATL', 'Hawks')\n",
    "box_score_df['Team'] = box_score_df['Team'].replace('NY', 'Knicks')\n",
    "box_score_df['Team'] = box_score_df['Team'].replace('MIN', 'Timberwolves')\n",
    "box_score_df['Team'] = box_score_df['Team'].replace('BKN', 'Nets')"
   ]
  },
  {
   "cell_type": "markdown",
   "metadata": {},
   "source": [
    "### Clean up Team column in injuries_df"
   ]
  },
  {
   "cell_type": "code",
   "execution_count": 7,
   "metadata": {},
   "outputs": [],
   "source": [
    "injuries_df['Team'] = injuries_df['Team'].replace('Bobcats', 'Hornets')"
   ]
  },
  {
   "cell_type": "markdown",
   "metadata": {},
   "source": [
    "### Change date columns for each df to datetime"
   ]
  },
  {
   "cell_type": "code",
   "execution_count": 8,
   "metadata": {},
   "outputs": [],
   "source": [
    "box_score_df['gmDate'] = pd.to_datetime(box_score_df['gmDate'])\n",
    "injuries_df['Date'] = pd.to_datetime(injuries_df['Date'])"
   ]
  },
  {
   "cell_type": "markdown",
   "metadata": {},
   "source": [
    "## #3: Check the packaging"
   ]
  },
  {
   "cell_type": "code",
   "execution_count": 9,
   "metadata": {},
   "outputs": [
    {
     "data": {
      "text/plain": [
       "(155713, 53)"
      ]
     },
     "execution_count": 9,
     "metadata": {},
     "output_type": "execute_result"
    }
   ],
   "source": [
    "box_score_df.shape"
   ]
  },
  {
   "cell_type": "code",
   "execution_count": 10,
   "metadata": {},
   "outputs": [
    {
     "data": {
      "text/plain": [
       "(9783, 5)"
      ]
     },
     "execution_count": 10,
     "metadata": {},
     "output_type": "execute_result"
    }
   ],
   "source": [
    "injuries_df.shape"
   ]
  },
  {
   "cell_type": "markdown",
   "metadata": {},
   "source": [
    "## #4: Look at the top and bottom of data"
   ]
  },
  {
   "cell_type": "code",
   "execution_count": 11,
   "metadata": {},
   "outputs": [
    {
     "data": {
      "text/html": [
       "<div>\n",
       "<style scoped>\n",
       "    .dataframe tbody tr th:only-of-type {\n",
       "        vertical-align: middle;\n",
       "    }\n",
       "\n",
       "    .dataframe tbody tr th {\n",
       "        vertical-align: top;\n",
       "    }\n",
       "\n",
       "    .dataframe thead th {\n",
       "        text-align: right;\n",
       "    }\n",
       "</style>\n",
       "<table border=\"1\" class=\"dataframe\">\n",
       "  <thead>\n",
       "    <tr style=\"text-align: right;\">\n",
       "      <th></th>\n",
       "      <th>gmDate</th>\n",
       "      <th>gmTime</th>\n",
       "      <th>seasTyp</th>\n",
       "      <th>playLNm</th>\n",
       "      <th>playFNm</th>\n",
       "      <th>teamAbbr</th>\n",
       "      <th>teamConf</th>\n",
       "      <th>teamDiv</th>\n",
       "      <th>teamLoc</th>\n",
       "      <th>teamRslt</th>\n",
       "      <th>...</th>\n",
       "      <th>playDRB</th>\n",
       "      <th>playTRB</th>\n",
       "      <th>opptAbbr</th>\n",
       "      <th>opptConf</th>\n",
       "      <th>opptDiv</th>\n",
       "      <th>opptLoc</th>\n",
       "      <th>opptRslt</th>\n",
       "      <th>opptDayOff</th>\n",
       "      <th>playNm</th>\n",
       "      <th>Team</th>\n",
       "    </tr>\n",
       "  </thead>\n",
       "  <tbody>\n",
       "    <tr>\n",
       "      <th>155708</th>\n",
       "      <td>2018-04-11</td>\n",
       "      <td>10:30</td>\n",
       "      <td>Regular</td>\n",
       "      <td>Sampson</td>\n",
       "      <td>JaKarr</td>\n",
       "      <td>SAC</td>\n",
       "      <td>West</td>\n",
       "      <td>Pacific</td>\n",
       "      <td>Home</td>\n",
       "      <td>Win</td>\n",
       "      <td>...</td>\n",
       "      <td>4</td>\n",
       "      <td>4</td>\n",
       "      <td>HOU</td>\n",
       "      <td>West</td>\n",
       "      <td>Southwest</td>\n",
       "      <td>Away</td>\n",
       "      <td>Loss</td>\n",
       "      <td>1</td>\n",
       "      <td>JaKarr Sampson</td>\n",
       "      <td>Kings</td>\n",
       "    </tr>\n",
       "    <tr>\n",
       "      <th>155709</th>\n",
       "      <td>2018-04-11</td>\n",
       "      <td>10:30</td>\n",
       "      <td>Regular</td>\n",
       "      <td>Hield</td>\n",
       "      <td>Chavano</td>\n",
       "      <td>SAC</td>\n",
       "      <td>West</td>\n",
       "      <td>Pacific</td>\n",
       "      <td>Home</td>\n",
       "      <td>Win</td>\n",
       "      <td>...</td>\n",
       "      <td>3</td>\n",
       "      <td>5</td>\n",
       "      <td>HOU</td>\n",
       "      <td>West</td>\n",
       "      <td>Southwest</td>\n",
       "      <td>Away</td>\n",
       "      <td>Loss</td>\n",
       "      <td>1</td>\n",
       "      <td>Chavano Hield</td>\n",
       "      <td>Kings</td>\n",
       "    </tr>\n",
       "    <tr>\n",
       "      <th>155710</th>\n",
       "      <td>2018-04-11</td>\n",
       "      <td>10:30</td>\n",
       "      <td>Regular</td>\n",
       "      <td>Hayes</td>\n",
       "      <td>Nigel</td>\n",
       "      <td>SAC</td>\n",
       "      <td>West</td>\n",
       "      <td>Pacific</td>\n",
       "      <td>Home</td>\n",
       "      <td>Win</td>\n",
       "      <td>...</td>\n",
       "      <td>3</td>\n",
       "      <td>4</td>\n",
       "      <td>HOU</td>\n",
       "      <td>West</td>\n",
       "      <td>Southwest</td>\n",
       "      <td>Away</td>\n",
       "      <td>Loss</td>\n",
       "      <td>1</td>\n",
       "      <td>Nigel Hayes</td>\n",
       "      <td>Kings</td>\n",
       "    </tr>\n",
       "    <tr>\n",
       "      <th>155711</th>\n",
       "      <td>2018-04-11</td>\n",
       "      <td>10:30</td>\n",
       "      <td>Regular</td>\n",
       "      <td>Carter</td>\n",
       "      <td>Vincent</td>\n",
       "      <td>SAC</td>\n",
       "      <td>West</td>\n",
       "      <td>Pacific</td>\n",
       "      <td>Home</td>\n",
       "      <td>Win</td>\n",
       "      <td>...</td>\n",
       "      <td>3</td>\n",
       "      <td>3</td>\n",
       "      <td>HOU</td>\n",
       "      <td>West</td>\n",
       "      <td>Southwest</td>\n",
       "      <td>Away</td>\n",
       "      <td>Loss</td>\n",
       "      <td>1</td>\n",
       "      <td>Vincent Carter</td>\n",
       "      <td>Kings</td>\n",
       "    </tr>\n",
       "    <tr>\n",
       "      <th>155712</th>\n",
       "      <td>2018-04-11</td>\n",
       "      <td>10:30</td>\n",
       "      <td>Regular</td>\n",
       "      <td>Cooley</td>\n",
       "      <td>Jack</td>\n",
       "      <td>SAC</td>\n",
       "      <td>West</td>\n",
       "      <td>Pacific</td>\n",
       "      <td>Home</td>\n",
       "      <td>Win</td>\n",
       "      <td>...</td>\n",
       "      <td>3</td>\n",
       "      <td>4</td>\n",
       "      <td>HOU</td>\n",
       "      <td>West</td>\n",
       "      <td>Southwest</td>\n",
       "      <td>Away</td>\n",
       "      <td>Loss</td>\n",
       "      <td>1</td>\n",
       "      <td>Jack Cooley</td>\n",
       "      <td>Kings</td>\n",
       "    </tr>\n",
       "  </tbody>\n",
       "</table>\n",
       "<p>5 rows × 53 columns</p>\n",
       "</div>"
      ],
      "text/plain": [
       "           gmDate gmTime  seasTyp  playLNm  playFNm teamAbbr teamConf  \\\n",
       "155708 2018-04-11  10:30  Regular  Sampson   JaKarr      SAC     West   \n",
       "155709 2018-04-11  10:30  Regular    Hield  Chavano      SAC     West   \n",
       "155710 2018-04-11  10:30  Regular    Hayes    Nigel      SAC     West   \n",
       "155711 2018-04-11  10:30  Regular   Carter  Vincent      SAC     West   \n",
       "155712 2018-04-11  10:30  Regular   Cooley     Jack      SAC     West   \n",
       "\n",
       "        teamDiv teamLoc teamRslt  ...    playDRB playTRB opptAbbr opptConf  \\\n",
       "155708  Pacific    Home      Win  ...          4       4      HOU     West   \n",
       "155709  Pacific    Home      Win  ...          3       5      HOU     West   \n",
       "155710  Pacific    Home      Win  ...          3       4      HOU     West   \n",
       "155711  Pacific    Home      Win  ...          3       3      HOU     West   \n",
       "155712  Pacific    Home      Win  ...          3       4      HOU     West   \n",
       "\n",
       "          opptDiv opptLoc opptRslt opptDayOff          playNm   Team  \n",
       "155708  Southwest    Away     Loss          1  JaKarr Sampson  Kings  \n",
       "155709  Southwest    Away     Loss          1   Chavano Hield  Kings  \n",
       "155710  Southwest    Away     Loss          1     Nigel Hayes  Kings  \n",
       "155711  Southwest    Away     Loss          1  Vincent Carter  Kings  \n",
       "155712  Southwest    Away     Loss          1     Jack Cooley  Kings  \n",
       "\n",
       "[5 rows x 53 columns]"
      ]
     },
     "execution_count": 11,
     "metadata": {},
     "output_type": "execute_result"
    }
   ],
   "source": [
    "box_score_df.head()\n",
    "box_score_df.tail()"
   ]
  },
  {
   "cell_type": "code",
   "execution_count": 12,
   "metadata": {},
   "outputs": [
    {
     "data": {
      "text/html": [
       "<div>\n",
       "<style scoped>\n",
       "    .dataframe tbody tr th:only-of-type {\n",
       "        vertical-align: middle;\n",
       "    }\n",
       "\n",
       "    .dataframe tbody tr th {\n",
       "        vertical-align: top;\n",
       "    }\n",
       "\n",
       "    .dataframe thead th {\n",
       "        text-align: right;\n",
       "    }\n",
       "</style>\n",
       "<table border=\"1\" class=\"dataframe\">\n",
       "  <thead>\n",
       "    <tr style=\"text-align: right;\">\n",
       "      <th></th>\n",
       "      <th>Date</th>\n",
       "      <th>Team</th>\n",
       "      <th>Acquired</th>\n",
       "      <th>Relinquised</th>\n",
       "      <th>Notes</th>\n",
       "    </tr>\n",
       "  </thead>\n",
       "  <tbody>\n",
       "    <tr>\n",
       "      <th>9778</th>\n",
       "      <td>2018-05-22</td>\n",
       "      <td>Warriors</td>\n",
       "      <td>NaN</td>\n",
       "      <td>Andre Iguodala</td>\n",
       "      <td>bruised left leg (DTD)</td>\n",
       "    </tr>\n",
       "    <tr>\n",
       "      <th>9779</th>\n",
       "      <td>2018-05-25</td>\n",
       "      <td>Rockets</td>\n",
       "      <td>NaN</td>\n",
       "      <td>Chris Paul</td>\n",
       "      <td>strained right hamstring (out for season)</td>\n",
       "    </tr>\n",
       "    <tr>\n",
       "      <th>9780</th>\n",
       "      <td>2018-05-26</td>\n",
       "      <td>Cavaliers</td>\n",
       "      <td>NaN</td>\n",
       "      <td>Kevin Love</td>\n",
       "      <td>concussion (DTD)</td>\n",
       "    </tr>\n",
       "    <tr>\n",
       "      <th>9781</th>\n",
       "      <td>2018-05-31</td>\n",
       "      <td>Cavaliers</td>\n",
       "      <td>Kevin Love</td>\n",
       "      <td>NaN</td>\n",
       "      <td>returned to lineup</td>\n",
       "    </tr>\n",
       "    <tr>\n",
       "      <th>9782</th>\n",
       "      <td>2018-06-06</td>\n",
       "      <td>Warriors</td>\n",
       "      <td>Andre Iguodala</td>\n",
       "      <td>NaN</td>\n",
       "      <td>returned to lineup</td>\n",
       "    </tr>\n",
       "  </tbody>\n",
       "</table>\n",
       "</div>"
      ],
      "text/plain": [
       "           Date       Team        Acquired     Relinquised  \\\n",
       "9778 2018-05-22   Warriors             NaN  Andre Iguodala   \n",
       "9779 2018-05-25    Rockets             NaN      Chris Paul   \n",
       "9780 2018-05-26  Cavaliers             NaN      Kevin Love   \n",
       "9781 2018-05-31  Cavaliers      Kevin Love             NaN   \n",
       "9782 2018-06-06   Warriors  Andre Iguodala             NaN   \n",
       "\n",
       "                                          Notes  \n",
       "9778                     bruised left leg (DTD)  \n",
       "9779  strained right hamstring (out for season)  \n",
       "9780                           concussion (DTD)  \n",
       "9781                         returned to lineup  \n",
       "9782                         returned to lineup  "
      ]
     },
     "execution_count": 12,
     "metadata": {},
     "output_type": "execute_result"
    }
   ],
   "source": [
    "injuries_df.head()\n",
    "injuries_df.tail()"
   ]
  },
  {
   "cell_type": "markdown",
   "metadata": {},
   "source": [
    "## #5: Check the 'n's"
   ]
  },
  {
   "cell_type": "code",
   "execution_count": 13,
   "metadata": {},
   "outputs": [
    {
     "name": "stdout",
     "output_type": "stream",
     "text": [
      "# of teams:  30\n",
      "# of teams:  31\n"
     ]
    }
   ],
   "source": [
    "print('# of teams: ', len(box_score_df['Team'].unique()))\n",
    "print('# of teams: ', len(injuries_df['Team'].unique()))"
   ]
  },
  {
   "cell_type": "code",
   "execution_count": 14,
   "metadata": {},
   "outputs": [
    {
     "name": "stdout",
     "output_type": "stream",
     "text": [
      "-- box_score_df --\n",
      "Start date:  2012-10-30 00:00:00\n",
      "End date:  2018-04-11 00:00:00\n",
      "-- injuries_df --\n",
      "Start date:  2010-10-03 00:00:00\n",
      "End date:  2018-06-06 00:00:00\n"
     ]
    }
   ],
   "source": [
    "print('-- box_score_df --')\n",
    "print('Start date: ', box_score_df['gmDate'].min())\n",
    "print('End date: ', box_score_df['gmDate'].max())\n",
    "print('-- injuries_df --')\n",
    "print('Start date: ', injuries_df['Date'].min())\n",
    "print('End date: ', injuries_df['Date'].max())"
   ]
  },
  {
   "cell_type": "code",
   "execution_count": 15,
   "metadata": {},
   "outputs": [
    {
     "name": "stdout",
     "output_type": "stream",
     "text": [
      "# of first names:  592\n",
      "# of last names:  702\n",
      "# of first and last name combos:  941\n"
     ]
    }
   ],
   "source": [
    "print('# of first names: ', len(box_score_df['playFNm'].unique()))\n",
    "print('# of last names: ', len(box_score_df['playLNm'].unique()))\n",
    "print('# of first and last name combos: ', len(box_score_df['playNm'].unique()))"
   ]
  },
  {
   "cell_type": "code",
   "execution_count": 16,
   "metadata": {},
   "outputs": [
    {
     "data": {
      "text/plain": [
       "Bench      81923\n",
       "Starter    73790\n",
       "Name: playStat, dtype: int64"
      ]
     },
     "execution_count": 16,
     "metadata": {},
     "output_type": "execute_result"
    }
   ],
   "source": [
    "box_score_df['playStat'].value_counts()"
   ]
  },
  {
   "cell_type": "code",
   "execution_count": 17,
   "metadata": {},
   "outputs": [
    {
     "data": {
      "text/plain": [
       "SG    33794\n",
       "PF    33466\n",
       "PG    33091\n",
       "SF    29993\n",
       "C     25060\n",
       "F       191\n",
       "G       118\n",
       "Name: playPos, dtype: int64"
      ]
     },
     "execution_count": 17,
     "metadata": {},
     "output_type": "execute_result"
    }
   ],
   "source": [
    "box_score_df['playPos'].value_counts()"
   ]
  },
  {
   "cell_type": "code",
   "execution_count": 18,
   "metadata": {},
   "outputs": [
    {
     "name": "stdout",
     "output_type": "stream",
     "text": [
      "min play height:  69\n",
      "max play height:  89\n"
     ]
    }
   ],
   "source": [
    "print('min play height: ', box_score_df['playHeight'].min())\n",
    "print('max play height: ', box_score_df['playHeight'].max())"
   ]
  },
  {
   "cell_type": "code",
   "execution_count": 19,
   "metadata": {},
   "outputs": [
    {
     "name": "stdout",
     "output_type": "stream",
     "text": [
      "min play weight:  149\n",
      "max play weight:  355\n"
     ]
    }
   ],
   "source": [
    "print('min play weight: ', box_score_df['playWeight'].min())\n",
    "print('max play weight: ', box_score_df['playWeight'].max())"
   ]
  },
  {
   "cell_type": "code",
   "execution_count": 21,
   "metadata": {},
   "outputs": [
    {
     "name": "stdout",
     "output_type": "stream",
     "text": [
      "min play birthday:  1972-10-04\n",
      "max play birthday:  1998-10-22\n"
     ]
    }
   ],
   "source": [
    "print('min play birthday: ', box_score_df['playBDate'].min())\n",
    "print('max play birthday: ', box_score_df['playBDate'].max())"
   ]
  },
  {
   "cell_type": "code",
   "execution_count": 22,
   "metadata": {},
   "outputs": [
    {
     "name": "stdout",
     "output_type": "stream",
     "text": [
      "play min points:  0\n",
      "play max points:  70\n"
     ]
    }
   ],
   "source": [
    "print('play min points: ', box_score_df['playPTS'].min())\n",
    "print('play max points: ', box_score_df['playPTS'].max())"
   ]
  },
  {
   "cell_type": "code",
   "execution_count": 23,
   "metadata": {},
   "outputs": [
    {
     "name": "stdout",
     "output_type": "stream",
     "text": [
      "play min rebounds:  0\n",
      "play max rebounds:  30\n"
     ]
    }
   ],
   "source": [
    "print('play min rebounds: ', box_score_df['playTRB'].min())\n",
    "print('play max rebounds: ', box_score_df['playTRB'].max())"
   ]
  },
  {
   "cell_type": "code",
   "execution_count": 24,
   "metadata": {},
   "outputs": [
    {
     "name": "stdout",
     "output_type": "stream",
     "text": [
      "# of acquired players:  487\n",
      "# of relinquished players:  779\n"
     ]
    }
   ],
   "source": [
    "print('# of acquired players: ', len(injuries_df['Acquired'].unique()))\n",
    "print('# of relinquished players: ', len(injuries_df['Relinquised'].unique()))"
   ]
  },
  {
   "cell_type": "code",
   "execution_count": 25,
   "metadata": {},
   "outputs": [
    {
     "data": {
      "text/plain": [
       "Index(['gmDate', 'gmTime', 'seasTyp', 'playLNm', 'playFNm', 'teamAbbr',\n",
       "       'teamConf', 'teamDiv', 'teamLoc', 'teamRslt', 'teamDayOff', 'offLNm1',\n",
       "       'offFNm1', 'offLNm2', 'offFNm2', 'offLNm3', 'offFNm3', 'playDispNm',\n",
       "       'playStat', 'playMin', 'playPos', 'playHeight', 'playWeight',\n",
       "       'playBDate', 'playPTS', 'playAST', 'playTO', 'playSTL', 'playBLK',\n",
       "       'playPF', 'playFGA', 'playFGM', 'playFG%', 'play2PA', 'play2PM',\n",
       "       'play2P%', 'play3PA', 'play3PM', 'play3P%', 'playFTA', 'playFTM',\n",
       "       'playFT%', 'playORB', 'playDRB', 'playTRB', 'opptAbbr', 'opptConf',\n",
       "       'opptDiv', 'opptLoc', 'opptRslt', 'opptDayOff', 'playNm', 'Team'],\n",
       "      dtype='object')"
      ]
     },
     "execution_count": 25,
     "metadata": {},
     "output_type": "execute_result"
    }
   ],
   "source": [
    "box_score_df.columns"
   ]
  },
  {
   "cell_type": "code",
   "execution_count": null,
   "metadata": {},
   "outputs": [],
   "source": []
  }
 ],
 "metadata": {
  "kernelspec": {
   "display_name": "Python 3",
   "language": "python",
   "name": "python3"
  },
  "language_info": {
   "codemirror_mode": {
    "name": "ipython",
    "version": 3
   },
   "file_extension": ".py",
   "mimetype": "text/x-python",
   "name": "python",
   "nbconvert_exporter": "python",
   "pygments_lexer": "ipython3",
   "version": "3.6.7"
  }
 },
 "nbformat": 4,
 "nbformat_minor": 2
}
